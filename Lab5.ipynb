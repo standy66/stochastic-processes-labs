{
 "cells": [
  {
   "cell_type": "code",
   "execution_count": 31,
   "metadata": {
    "collapsed": false
   },
   "outputs": [
    {
     "name": "stdout",
     "output_type": "stream",
     "text": [
      "[[0, 0, 0, 0, 0, 0, 0], [0, 0, 0, 0, 0, 0, 0], [0, 0, 0, 0, 0, 0, 0], [0, 0, 0, 0, 0, 0, 0], [0, 0, 0, 0, 0, 0, 0], [0, 0, 0, 0, 0, 0, 0], [0, 0, 0, 0, 0, 0, 0]]\n",
      "[[ 0.14553381]\n",
      " [ 0.29311761]\n",
      " [ 0.14553381]\n",
      " [ 0.14553381]\n",
      " [ 0.112467  ]\n",
      " [ 0.07890698]\n",
      " [ 0.07890698]]\n"
     ]
    }
   ],
   "source": [
    "%matplotlib inline\n",
    "import numpy as np\n",
    "\n",
    "alpha = 0.85\n",
    "\n",
    "def delta(arr1, arr2):\n",
    "    ans = 0\n",
    "    for i in range(0, len(arr1)):\n",
    "        ans = max(ans, abs(arr1[i] - arr2[i]))\n",
    "    return ans\n",
    "\n",
    "def page_rank(links, epsilon):\n",
    "    \"\"\"\n",
    "    Input:\n",
    "        links      |E|*2 numpy.array, webgraph G = (V, E)\n",
    "        epsilon    tolerance\n",
    "    Output:\n",
    "        pr         |V|*1 numpy.array pagerank of webgraph\n",
    "    \"\"\"\n",
    "    n = max(map(lambda link: max(link[0], link[1]), links)) + 1\n",
    "    cond_probability = [[0 for j in range(0, n)] for i in range(0, n)]\n",
    "    print(cond_probability)\n",
    "    g = [[i] for i in range(0, n)]\n",
    "    for link in links:\n",
    "        u = link[0]\n",
    "        v = link[1]\n",
    "        g[u].append(v)\n",
    "    for i in range(0, n):\n",
    "        g[i] = list(set(g[i]))\n",
    "        for j in g[i]:\n",
    "            cond_probability[i][j] = alpha / len(g[i])\n",
    "        for j in range(0, n):\n",
    "            cond_probability[i][j] = cond_probability[i][j] + (1 - alpha) / n\n",
    "    cond_probability = np.matrix(cond_probability).T\n",
    "    prev_distribution = np.matrix([[1/n for i in range(0, n)]]).T\n",
    "    distribution = cond_probability * prev_distribution\n",
    "    while delta(prev_distribution, distribution) >= epsilon:\n",
    "        prev_distribution = distribution\n",
    "        distribution = cond_probability * prev_distribution\n",
    "    return distribution\n",
    "\n",
    "links = np.array([[0, 1], [2, 1], [3, 1], [1, 0], [1, 2], [1, 1], [1, 3], [4, 5], [5, 4], [4, 6], [6, 4], [4, 1]])\n",
    "ans = page_rank(links, 0.0001)\n",
    "print(ans)"
   ]
  },
  {
   "cell_type": "code",
   "execution_count": null,
   "metadata": {
    "collapsed": true
   },
   "outputs": [],
   "source": []
  }
 ],
 "metadata": {
  "kernelspec": {
   "display_name": "Python 3",
   "language": "python",
   "name": "python3"
  },
  "language_info": {
   "codemirror_mode": {
    "name": "ipython",
    "version": 3
   },
   "file_extension": ".py",
   "mimetype": "text/x-python",
   "name": "python",
   "nbconvert_exporter": "python",
   "pygments_lexer": "ipython3",
   "version": "3.4.3"
  }
 },
 "nbformat": 4,
 "nbformat_minor": 0
}
