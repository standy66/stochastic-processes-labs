{
 "cells": [
  {
   "cell_type": "markdown",
   "metadata": {},
   "source": [
    "## Модель страхования Крамера-Лундберга\n",
    "Рассмотрим модель страхования Крамера-Лундберга. Пусть у нас есть некоторая страховая компания с начальным капиталом (в момент времени t = 0) $y_0$. Выплаты в страховую компанию поступают равномерно со скоростью $c$ единиц денег в единицу времени. Количество несчастных случаев является Пуассоновским процессом интенсивности $\\lambda$, а размер страховых выплат распределён ранвомерно на отрезке $[a, b]$. Другими словами, задан процесс\n",
    "$$Y_t = y_0 + ct + \\sum_{j = 0}^{N_t} \\xi_j$$, где $Y_t$ отвечает за капитал в момент времени $t$, $\\xi_i \\sim U[a, b]$ независимы друг с другом а также независимы от пуассоновского процесса $N$.\n",
    "\n",
    "Определим $\\tau = inf \\{ t : Y_t < 0 \\}$ -- момент разорения.\n",
    "\n",
    "Из курса случайных процессов известна следующая теорема:\n",
    "\n",
    "Пусть \n",
    "$$\\psi(v) = Ee^{v\\xi_1}$$\n",
    "$$g(v) = \\lambda(\\psi(v) - 1) - cv$$\n",
    "Пусть также верно следующее (здесь $\\xi \\sim \\xi_i$):\n",
    "$$E\\xi^2 \\geq 0$$\n",
    "$$\\forall v > 0: \\psi(v) < \\infty$$\n",
    "$$c - \\lambda E\\xi > 0$$\n",
    "\n",
    "Тогда $P(\\tau < \\infty) \\leq e^{-y_0 v_0}$, где $v_0$ -- единственный корень на $(0, +\\infty)$ уравненния $g(v) = 0$.\n",
    "\n",
    "Далее будем применять эту теорему."
   ]
  },
  {
   "cell_type": "markdown",
   "metadata": {},
   "source": [
    "### Средний случай\n",
    "Чтобы банкротство не происходило в среднем, нужно, чтобы $EY_t > 0$. В нашем случае:\n",
    "$$E(\\sum_{j = 1}^{N_t} \\xi_j | N_t = a) = E(\\sum_{j = 1}^{a} \\xi_j | N_t = a) = a E(\\xi_1|N_t = a) = aE(\\xi_1) = 150 a$$\n",
    "\n",
    "$$E(\\sum_{j = 1}^{N_t} \\xi_j | N_t) = 150 N_t$$\n",
    "\n",
    "$$E(\\sum_{j = 1}^{N_t} \\xi_j) = E(E(\\sum_{j = 1}^{N_t} \\xi_j | N_t)) = 150 \\lambda t$$.\n",
    "\n",
    "Итак, $EY_t = y_0 + ct - 150 \\lambda t$. Тогда понятно, что необходимое и достаточное условие того, что $\\forall t: EY_t >= 0$ -- это $c >= 150 \\lambda$. Заметим, что это одно из условий теоремы об оценке вероятности разорения."
   ]
  },
  {
   "cell_type": "markdown",
   "metadata": {},
   "source": [
    "### 1, 5, 10-перцентили разорения\n",
    "Из теоремы о разорении, если мы хотим, допустим, $P(\\tau < infty) \\leq 1\\% = 0.01$, то нам надо, чтобы $e^{-y_0v_0} \\leq 0.01$. В нашем случае $\\psi(v)$ -- это харфункция равномерного распределения с подставленным туда $t = -iv$. $$\\varphi(t) = \\frac{e^{itb} - e^{ita}}{it(b - a)}$$\n",
    "$$\\psi(v) = \\frac{e^{vb} - e^{va}}{v(b-a)}$$\n",
    "В нашем случае, $\\forall v > 0: \\psi(v) < \\infty$. Нарисуем сначала $g(v)$ в логарифмическом масштабе."
   ]
  },
  {
   "cell_type": "code",
   "execution_count": 28,
   "metadata": {
    "collapsed": false
   },
   "outputs": [
    {
     "data": {
      "image/png": "[encoded data removed]",
      "text/plain": [
       "<matplotlib.figure.Figure at 0x7fc2e3329ac8>"
      ]
     },
     "metadata": {},
     "output_type": "display_data"
    },
    {
     "name": "stdout",
     "output_type": "stream",
     "text": [
      "Solution for g(v) = 0 for lambda = 1, c = 500 is0.012951489125171581\n"
     ]
    }
   ],
   "source": [
    "%matplotlib inline\n",
    "import scipy.stats as stats\n",
    "import matplotlib.pyplot as plot\n",
    "import math\n",
    "import numpy\n",
    "import scipy.optimize\n",
    "\n",
    "def psi(v):\n",
    "    return (math.exp(200*v) - math.exp(100*v))/(100*v)\n",
    "\n",
    "def g(v, lambd, c):\n",
    "    return lambd*(psi(v) - 1) - c*v\n",
    "\n",
    "g_example = lambda x: g(x, 1, 500)\n",
    "\n",
    "xss = numpy.linspace(-0.5, 0.5, 300)\n",
    "xs = [x for x in xss]\n",
    "ys = [g_example(x) for x in xs]\n",
    "\n",
    "\n",
    "plot.figure(figsize=(20,6))\n",
    "plot.title('g(v)')\n",
    "plot.yscale('log')\n",
    "plot.plot(xs, ys)\n",
    "plot.show()\n",
    "\n",
    "print(\"Solution for g(v) = 0 for lambda = 1, c = 500 is \" + str(scipy.optimize.newton(g_example, 0.1)))"
   ]
  },
  {
   "cell_type": "markdown",
   "metadata": {},
   "source": [
    "Она возрастает на $(0, +\\infty)$. Её корень будем искать методом Ньютона (scipy.optimize.newton). Найдем оценку для вероятности разорения, для, скажем, начального капитала, равного 500."
   ]
  },
  {
   "cell_type": "code",
   "execution_count": 40,
   "metadata": {
    "collapsed": false
   },
   "outputs": [
    {
     "name": "stdout",
     "output_type": "stream",
     "text": [
      "for c = 5.0 probability of downfall is 0.9999999991623235\n",
      "for c = 5.45454545455 probability of downfall is 0.9999999972539024\n",
      "for c = 5.90909090909 probability of downfall is 0.999999994700117\n",
      "for c = 6.36363636364 probability of downfall is 0.9999999872147134\n",
      "for c = 6.81818181818 probability of downfall is 0.9999999647614126\n",
      "for c = 7.27272727273 probability of downfall is 0.9999999045145425\n",
      "for c = 7.72727272727 probability of downfall is 0.9999999858693519\n",
      "for c = 8.18181818182 probability of downfall is 1.0000000004768816\n",
      "for c = 8.63636363636 probability of downfall is 0.999999984924515\n",
      "for c = 9.09090909091 probability of downfall is 0.999999998433391\n",
      "for c = 9.54545454545 probability of downfall is 0.9999999936640794\n",
      "for c = 10.0 probability of downfall is 0.9999999750415784\n",
      "for c = 10.4545454545 probability of downfall is 0.9999998742142743\n",
      "for c = 10.9090909091 probability of downfall is 1.000000000188001\n",
      "for c = 11.3636363636 probability of downfall is 0.9999999854324964\n",
      "for c = 11.8181818182 probability of downfall is 0.9999999879900641\n",
      "for c = 12.2727272727 probability of downfall is 0.9999998800928315\n",
      "for c = 12.7272727273 probability of downfall is 1.000000008425259\n",
      "for c = 13.1818181818 probability of downfall is 0.9999999775773827\n",
      "for c = 13.6363636364 probability of downfall is 1.0000000097573831\n",
      "for c = 14.0909090909 probability of downfall is 0.9999996734094818\n",
      "for c = 14.5454545455 probability of downfall is 0.9999999958647008\n",
      "for c = 15.0 probability of downfall is 0.9998977926672636\n",
      "for c = 15.4545454545 probability of downfall is 0.6827125721389389\n",
      "for c = 15.9090909091 probability of downfall is 0.4731825829032592\n",
      "for c = 16.3636363636 probability of downfall is 0.3325907043248949\n",
      "for c = 16.8181818182 probability of downfall is 0.23684514779869598\n",
      "for c = 17.2727272727 probability of downfall is 0.1707320130616642\n",
      "for c = 17.7272727273 probability of downfall is 0.12448571745638018\n",
      "for c = 18.1818181818 probability of downfall is 0.09174182462566191\n",
      "for c = 18.6363636364 probability of downfall is 0.0682928000985343\n",
      "for c = 19.0909090909 probability of downfall is 0.05131957856992844\n",
      "for c = 19.5454545455 probability of downfall is 0.038909390391354735\n",
      "for c = 20.0 probability of downfall is 0.029748908164564027\n",
      "for c = 20.4545454545 probability of downfall is 0.022926206212483154\n",
      "for c = 20.9090909091 probability of downfall is 0.017801349269199063\n",
      "for c = 21.3636363636 probability of downfall is 0.013920738317499555\n",
      "for c = 21.8181818182 probability of downfall is 0.010959784061443866\n",
      "for c = 22.2727272727 probability of downfall is 0.008684109970120629\n",
      "for c = 22.7272727273 probability of downfall is 0.006923027000409574\n",
      "for c = 23.1818181818 probability of downfall is 0.005551204215039513\n",
      "for c = 23.6363636364 probability of downfall is 0.004475903040559736\n",
      "for c = 24.0909090909 probability of downfall is 0.0036279903164453302\n",
      "for c = 24.5454545455 probability of downfall is 0.0029555646056980607\n",
      "for c = 25.0 probability of downfall is 0.002419397320196945\n",
      "for c = 25.4545454545 probability of downfall is 0.001989646442620977\n",
      "for c = 25.9090909091 probability of downfall is 0.0016434698889977923\n",
      "for c = 26.3636363636 probability of downfall is 0.001363279818670773\n",
      "for c = 26.8181818182 probability of downfall is 0.001135456871799762\n",
      "for c = 27.2727272727 probability of downfall is 0.0009493977099194322\n",
      "for c = 27.7272727273 probability of downfall is 0.0007968030181426123\n",
      "for c = 28.1818181818 probability of downfall is 0.0006711447654433322\n",
      "for c = 28.6363636364 probability of downfall is 0.0005672631285399836\n",
      "for c = 29.0909090909 probability of downfall is 0.00048106073277026103\n",
      "for c = 29.5454545455 probability of downfall is 0.00040926929077785484\n",
      "for c = 30.0 probability of downfall is 0.00034927057202705246\n",
      "for c = 30.4545454545 probability of downfall is 0.0002989583664584259\n",
      "for c = 30.9090909091 probability of downfall is 0.0002566315416504945\n",
      "for c = 31.3636363636 probability of downfall is 0.00022091080341764084\n",
      "for c = 31.8181818182 probability of downfall is 0.0001906736145518301\n",
      "for c = 32.2727272727 probability of downfall is 0.00016500308942080148\n",
      "for c = 32.7272727273 probability of downfall is 0.0001431476945406628\n",
      "for c = 33.1818181818 probability of downfall is 0.0001244893410984284\n",
      "for c = 33.6363636364 probability of downfall is 0.0001085180225288184\n",
      "for c = 34.0909090909 probability of downfall is 9.481157782327328e-05\n",
      "for c = 34.5454545455 probability of downfall is 8.301947793596225e-05\n",
      "for c = 35.0 probability of downfall is 7.284983231749103e-05\n",
      "for c = 35.4545454545 probability of downfall is 6.405883084166726e-05\n",
      "for c = 35.9090909091 probability of downfall is 5.644228424232989e-05\n",
      "for c = 36.3636363636 probability of downfall is 4.9828710904455276e-05\n",
      "for c = 36.8181818182 probability of downfall is 4.4073716735654594e-05\n",
      "for c = 37.2727272727 probability of downfall is 3.9055403975145366e-05\n",
      "for c = 37.7272727273 probability of downfall is 3.467060936229765e-05\n",
      "for c = 38.1818181818 probability of downfall is 3.0831812901294824e-05\n",
      "for c = 38.6363636364 probability of downfall is 2.7464590509466286e-05\n",
      "for c = 39.0909090909 probability of downfall is 2.450550909276491e-05\n",
      "for c = 39.5454545455 probability of downfall is 2.1900382560040782e-05\n",
      "for c = 40.0 probability of downfall is 1.960282312683279e-05\n",
      "for c = 40.4545454545 probability of downfall is 1.7573034863165827e-05\n",
      "for c = 40.9090909091 probability of downfall is 1.577680650021216e-05\n",
      "for c = 41.3636363636 probability of downfall is 1.41846685651596e-05\n",
      "for c = 41.8181818182 probability of downfall is 1.2771186381129733e-05\n",
      "for c = 42.2727272727 probability of downfall is 1.1514365677091941e-05\n",
      "for c = 42.7272727273 probability of downfall is 1.0395151758397623e-05\n",
      "for c = 43.1818181818 probability of downfall is 9.397006594008253e-06\n",
      "for c = 43.6363636364 probability of downfall is 8.505550941322707e-06\n",
      "for c = 44.0909090909 probability of downfall is 7.70826088005792e-06\n",
      "for c = 44.5454545455 probability of downfall is 6.994209963208922e-06\n",
      "for c = 45.0 probability of downfall is 6.3538496955707685e-06\n",
      "for c = 45.4545454545 probability of downfall is 5.778822282400083e-06\n",
      "for c = 45.9090909091 probability of downfall is 5.261800603562828e-06\n",
      "for c = 46.3636363636 probability of downfall is 4.79635120292608e-06\n",
      "for c = 46.8181818182 probability of downfall is 4.376816393085869e-06\n",
      "for c = 47.2727272727 probability of downfall is 3.998214907338975e-06\n",
      "for c = 47.7272727273 probability of downfall is 3.6561523535455207e-06\n",
      "for c = 48.1818181818 probability of downfall is 3.3467482074986717e-06\n",
      "for c = 48.6363636364 probability of downfall is 3.0665705710831165e-06\n",
      "for c = 49.0909090909 probability of downfall is 2.812580203444161e-06\n",
      "for c = 49.5454545455 probability of downfall is 2.5820820329970855e-06\n",
      "for c = 50.0 probability of downfall is 2.3726830854590056e-06\n"
     ]
    }
   ],
   "source": [
    "for c in numpy.linspace(5, 50, 100):\n",
    "    ans = scipy.optimize.newton(lambda x: g(x, 0.1, c), 0.1, tol = 1e-7)\n",
    "    print(\"for c = \" + str(c) + \" probability of downfall is \" + str(math.exp(-1000*ans)))"
   ]
  },
  {
   "cell_type": "code",
   "execution_count": 63,
   "metadata": {
    "collapsed": false
   },
   "outputs": [
    {
     "name": "stdout",
     "output_type": "stream",
     "text": [
      "[1.0, 2.010204081632653, 3.0204081632653059, 4.0306122448979593, 5.0408163265306118, 6.0510204081632644, 7.0612244897959178, 8.0714285714285712, 9.0816326530612237, 10.091836734693876, 11.102040816326529, 12.112244897959183, 13.122448979591836, 14.132653061224488, 15.142857142857142, 16.153061224489797, 17.163265306122447, 18.173469387755102, 19.183673469387752, 20.193877551020407, 21.204081632653057, 22.214285714285712, 23.224489795918366, 24.234693877551017, 25.244897959183671, 26.255102040816325, 27.265306122448976, 28.27551020408163, 29.285714285714285, 30.295918367346935, 31.30612244897959, 32.316326530612244, 33.326530612244895, 34.336734693877546, 35.346938775510203, 36.357142857142854, 37.367346938775505, 38.377551020408163, 39.387755102040813, 40.397959183673464, 41.408163265306115, 42.418367346938773, 43.428571428571423, 44.438775510204074, 45.448979591836732, 46.459183673469383, 47.469387755102034, 48.479591836734691, 49.489795918367342, 50.499999999999993, 51.510204081632651, 52.520408163265301, 53.530612244897952, 54.54081632653061, 55.551020408163261, 56.561224489795912, 57.571428571428569, 58.58163265306122, 59.591836734693871, 60.602040816326522, 61.612244897959179, 62.62244897959183, 63.632653061224481, 64.642857142857139, 65.65306122448979, 66.66326530612244, 67.673469387755091, 68.683673469387742, 69.693877551020407, 70.704081632653057, 71.714285714285708, 72.724489795918359, 73.73469387755101, 74.74489795918366, 75.755102040816325, 76.765306122448976, 77.775510204081627, 78.785714285714278, 79.795918367346928, 80.806122448979579, 81.81632653061223, 82.826530612244895, 83.836734693877546, 84.846938775510196, 85.857142857142847, 86.867346938775498, 87.877551020408148, 88.887755102040813, 89.897959183673464, 90.908163265306115, 91.918367346938766, 92.928571428571416, 93.938775510204067, 94.948979591836732, 95.959183673469383, 96.969387755102034, 97.979591836734684, 98.989795918367335, 100.0]\n",
      "[2, 2, 2, 2, 2, 2, 2, 2, 2, 2, 2, 2, 2, 2, 2, 2, 2, 2, 2, 2, 3, 3, 3, 3, 3, 3, 3, 3, 3, 3, 3, 3, 3, 3, 3, 3, 3, 3, 3, 3, 3, 3, 4, 5, 5, 5, 5, 6, 6, 6, 6, 6, 6, 6, 6, 6, 6, 6, 6, 6, 6, 6, 6, 6, 6, 6, 6, 6, 6, 6, 7, 7, 7, 7, 7, 7, 7, 7, 7, 7, 7, 7, 7, 7, 7, 7, 8, 8, 8, 8, 8, 8, 10, 10, 10, 10, 10, 10, 10]\n"
     ]
    },
    {
     "data": {
      "image/png": "[encoded data removed]",
      "text/plain": [
       "<matplotlib.figure.Figure at 0x7fc2e2f899b0>"
      ]
     },
     "metadata": {},
     "output_type": "display_data"
    }
   ],
   "source": [
    "def poisson(lmbda, ts):\n",
    "    ans = []\n",
    "    count = 0\n",
    "    cur_t = 0\n",
    "    i = 0\n",
    "    print(ts)\n",
    "    while (i < len(ts)):\n",
    "        if (cur_t >= ts[i]):\n",
    "            ans.append(count)\n",
    "            i = i + 1\n",
    "        else:\n",
    "            cur_t = cur_t + (scipy.stats.expon.rvs(loc = 0, scale = 1/lmbda, size = 1))[0]\n",
    "            count = count + 1\n",
    "    print(ans)\n",
    "    return ans\n",
    "\n",
    "def lundberg(lmbd, y_0, c, ts):\n",
    "    risk_times = poisson(lmbd, ts)\n",
    "    scipy.stats.uniform(100, 300, )\n",
    "    for (i in range(0, len(ts))):\n",
    "        no_of_risks = risk_times[i]\n",
    "        \n",
    "\n",
    "xs = [x for x in numpy.linspace(1, 100, 99)]\n",
    "ys = poisson(0.1, xs)\n",
    "\n",
    "plot.figure()\n",
    "plot.plot(ys)\n",
    "plot.show()"
   ]
  },
  {
   "cell_type": "code",
   "execution_count": null,
   "metadata": {
    "collapsed": true
   },
   "outputs": [],
   "source": []
  }
 ],
 "metadata": {
  "kernelspec": {
   "display_name": "Python 3",
   "language": "python",
   "name": "python3"
  },
  "language_info": {
   "codemirror_mode": {
    "name": "ipython",
    "version": 3
   },
   "file_extension": ".py",
   "mimetype": "text/x-python",
   "name": "python",
   "nbconvert_exporter": "python",
   "pygments_lexer": "ipython3",
   "version": "3.4.3"
  }
 },
 "nbformat": 4,
 "nbformat_minor": 0
}
